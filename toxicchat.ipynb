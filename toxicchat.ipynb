{
  "cells": [
    {
      "cell_type": "code",
      "execution_count": null,
      "metadata": {
        "id": "uUQpXXILWnRT"
      },
      "outputs": [],
      "source": [
        "string = \"\"\"Hey man, I'm really not trying to edit war. It's just that this guy is constantly removing relevant information and talking to me through edits instead of my talk page. He seems to care more about the formatting than the actual info..\"\"\""
      ]
    },
    {
      "cell_type": "code",
      "execution_count": null,
      "metadata": {
        "id": "hEyXCXpcSsl0"
      },
      "outputs": [],
      "source": [
        "import sys, os, re, csv, codecs, numpy as np, pandas as pd\n",
        "import matplotlib.pyplot as plt\n",
        "%matplotlib inline\n",
        "from keras.preprocessing.text import Tokenizer\n",
        "from keras.preprocessing.sequence import pad_sequences\n",
        "from keras.layers import Dense, Input, LSTM, Embedding, Dropout, Activation\n",
        "from keras.layers import Bidirectional, GlobalMaxPool1D\n",
        "from keras.models import Model\n",
        "from keras import initializers, regularizers, constraints, optimizers, layers\n",
        "import tensorflow as tf"
      ]
    },
    {
      "cell_type": "code",
      "execution_count": null,
      "metadata": {
        "colab": {
          "base_uri": "https://localhost:8080/"
        },
        "id": "tmlKkPLdWpUs",
        "outputId": "8f7696f4-cf15-4fb1-f8e7-7cd580d787f3"
      },
      "outputs": [
        {
          "name": "stdout",
          "output_type": "stream",
          "text": [
            "[\"Hey man, I'm really not trying to edit war. It's just that this guy is constantly removing relevant information and talking to me through edits instead of my talk page. He seems to care more about the formatting than the actual info..\"]\n"
          ]
        }
      ],
      "source": [
        "sentence = []\n",
        "sentence.append(string)\n",
        "\n",
        "print(sentence)"
      ]
    },
    {
      "cell_type": "code",
      "execution_count": null,
      "metadata": {
        "colab": {
          "base_uri": "https://localhost:8080/"
        },
        "id": "GWm5ow8YSx12",
        "outputId": "27035e25-7ed9-41d5-eb60-58415dc0f45f"
      },
      "outputs": [
        {
          "name": "stdout",
          "output_type": "stream",
          "text": [
            "[[3, 4, 5, 6, 7, 8, 1, 9, 10, 11, 12, 13, 14, 15, 16, 17, 18, 19, 20, 21, 22, 1, 23, 24, 25, 26, 27, 28, 29, 30, 31, 32, 1, 33, 34, 35, 2, 36, 37, 2, 38, 39]]\n"
          ]
        }
      ],
      "source": [
        "max_features = 20000\n",
        "tokenizer = Tokenizer(num_words=max_features)\n",
        "tokenizer.fit_on_texts(list(sentence))\n",
        "list_tokenized= tokenizer.texts_to_sequences(sentence)\n",
        "\n",
        "print(list_tokenized)"
      ]
    },
    {
      "cell_type": "code",
      "execution_count": null,
      "metadata": {
        "id": "Vkm3tYSmTMCY"
      },
      "outputs": [],
      "source": [
        "maxlen = 200\n",
        "inputs = pad_sequences(list_tokenized, maxlen=maxlen)"
      ]
    },
    {
      "cell_type": "code",
      "execution_count": null,
      "metadata": {
        "id": "biIu57tzTWAW"
      },
      "outputs": [],
      "source": [
        "model = tf.keras.models.load_model('/content/drive/MyDrive/datasset/mymodel')"
      ]
    },
    {
      "cell_type": "code",
      "execution_count": null,
      "metadata": {
        "colab": {
          "base_uri": "https://localhost:8080/"
        },
        "id": "zinVbzDTW3O3",
        "outputId": "fe264321-8662-4310-beb4-57015848023c"
      },
      "outputs": [
        {
          "name": "stdout",
          "output_type": "stream",
          "text": [
            "[0.09992415 0.00021079 0.0056355  0.00104159 0.00571749 0.00064871]\n",
            "0.09992415\n"
          ]
        }
      ],
      "source": [
        "pred = model.predict(inputs)\n",
        "pred = pred[0]\n",
        "print(pred)\n",
        "print(pred[0])"
      ]
    },
    {
      "cell_type": "code",
      "execution_count": null,
      "metadata": {
        "colab": {
          "background_save": true,
          "base_uri": "https://localhost:8080/"
        },
        "id": "kH9p3rBYX87_",
        "outputId": "d498585d-33cd-4b62-c4ae-762e1aa74e6c"
      },
      "outputs": [
        {
          "name": "stdout",
          "output_type": "stream",
          "text": [
            "comment was clean and free of toxicity :)\n"
          ]
        }
      ],
      "source": [
        "if pred[0]>=0.3 or pred[1]>=0.01 or pred[2]>0.05 or pred[3]>0.02 or pred[4]>0.03 or pred[5]>0.01:\n",
        "  print('Comment was toxic :(')\n",
        "else :\n",
        "  print('comment was clean and free of toxicity :)')"
      ]
    }
  ],
  "metadata": {
    "colab": {
      "collapsed_sections": [],
      "name": "toxicchat.ipynb",
      "provenance": []
    },
    "kernelspec": {
      "display_name": "Python 3",
      "name": "python3"
    },
    "language_info": {
      "name": "python"
    }
  },
  "nbformat": 4,
  "nbformat_minor": 0
}